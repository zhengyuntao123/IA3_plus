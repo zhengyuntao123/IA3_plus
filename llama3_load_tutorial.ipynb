{
 "cells": [
  {
   "cell_type": "code",
   "execution_count": 12,
   "id": "b9ddb257-f925-464d-ad4c-5f363164f5bc",
   "metadata": {},
   "outputs": [
    {
     "name": "stdout",
     "output_type": "stream",
     "text": [
      "Torch version: 2.5.1+cu118\n",
      "Torchvision version: 0.20.1+cu118\n",
      "11.8\n",
      "The history saving thread hit an unexpected error (OperationalError('attempt to write a readonly database')).History will not be written to the database.\n"
     ]
    }
   ],
   "source": [
    "import torch\n",
    "import torchvision\n",
    "\n",
    "print(\"Torch version:\", torch.__version__)\n",
    "print(\"Torchvision version:\", torchvision.__version__)\n",
    "print(torch.version.cuda)"
   ]
  },
  {
   "cell_type": "code",
   "execution_count": 13,
   "id": "4d76903e-6032-4e5c-adab-4e26b840babf",
   "metadata": {},
   "outputs": [],
   "source": [
    "import os\n",
    "import numpy as np\n",
    "import pandas as pd\n",
    "import seaborn as sns\n",
    "import matplotlib.pyplot as plt\n",
    "plt.style.use('ggplot')\n",
    "\n",
    "from trl import SFTTrainer\n",
    "from transformers import TrainingArguments, TextStreamer\n",
    "from unsloth.chat_templates import get_chat_template\n",
    "from unsloth import FastLanguageModel\n",
    "from datasets import Dataset\n",
    "from unsloth import is_bfloat16_supported\n",
    "\n",
    "# Saving model\n",
    "from transformers import AutoTokenizer, AutoModelForSequenceClassification\n",
    "\n",
    "# Warnings\n",
    "import warnings\n",
    "warnings.filterwarnings(\"ignore\")\n",
    "\n",
    "%matplotlib inline"
   ]
  },
  {
   "cell_type": "code",
   "execution_count": 3,
   "id": "10240f24-199d-4154-bf7b-4941e2f95724",
   "metadata": {},
   "outputs": [
    {
     "name": "stdout",
     "output_type": "stream",
     "text": [
      "==((====))==  Unsloth 2024.11.6: Fast Llama patching. Transformers = 4.46.2.\n",
      "   \\\\   /|    GPU: NVIDIA GeForce RTX 4080 SUPER. Max memory: 15.992 GB. Platform = Linux.\n",
      "O^O/ \\_/ \\    Pytorch: 2.5.1+cu118. CUDA = 8.9. CUDA Toolkit = 11.8.\n",
      "\\        /    Bfloat16 = TRUE. FA [Xformers = 0.0.28.post3. FA2 = False]\n",
      " \"-____-\"     Free Apache license: http://github.com/unslothai/unsloth\n",
      "Unsloth: Fast downloading is enabled - ignore downloading bars which are red colored!\n"
     ]
    },
    {
     "name": "stderr",
     "output_type": "stream",
     "text": [
      "Unsloth 2024.11.6 patched 16 layers with 16 QKV layers, 16 O layers and 16 MLP layers.\n"
     ]
    }
   ],
   "source": [
    "model, tokenizer = FastLanguageModel.from_pretrained(model_name = \"model/1B_finetuned_llama3.2\",\n",
    "                                                        max_seq_length = 5020,\n",
    "                                                        dtype = None,\n",
    "                                                        load_in_4bit = True)"
   ]
  },
  {
   "cell_type": "code",
   "execution_count": 4,
   "id": "fd3717c3-9b9e-408c-a9d7-2425297586ec",
   "metadata": {},
   "outputs": [],
   "source": [
    "text=\"I'm going through some things with my feelings and myself. I barely sleep and I do nothing but think about how I'm worthless and how I shouldn't be here. I've never tried or contemplated suicide. I've always wanted to fix my issues, but I never get around to it. How can I change my feeling of being worthless to everyone?\""
   ]
  },
  {
   "cell_type": "code",
   "execution_count": 6,
   "id": "53c15831-3a4e-47de-a2e7-e700dcf8f58a",
   "metadata": {},
   "outputs": [],
   "source": [
    "data_prompt = \"\"\"Analyze the provided text from a mental health perspective. Identify any indicators of emotional distress, coping mechanisms, or psychological well-being. Highlight any potential concerns or positive aspects related to mental health, and provide a brief explanation for each observation.\n",
    "\n",
    "### Input:\n",
    "{}\n",
    "\n",
    "### Response:\n",
    "{}\"\"\""
   ]
  },
  {
   "cell_type": "code",
   "execution_count": 7,
   "id": "490dbc53-d592-44e4-b1c0-0aabf08a81dc",
   "metadata": {},
   "outputs": [],
   "source": [
    "model = FastLanguageModel.for_inference(model)\n",
    "inputs = tokenizer(\n",
    "[\n",
    "    data_prompt.format(\n",
    "        #instructions\n",
    "        text,\n",
    "        #answer\n",
    "        \"\",\n",
    "    )\n",
    "], return_tensors = \"pt\").to(\"cuda\")"
   ]
  },
  {
   "cell_type": "code",
   "execution_count": 8,
   "id": "2aae4b91-141a-46f4-9b1b-08481d0316d8",
   "metadata": {},
   "outputs": [
    {
     "data": {
      "text/plain": [
       "{'input_ids': tensor([[128000,   2127,  56956,    279,   3984,   1495,    505,    264,  10723,\n",
       "           2890,  13356,     13,  65647,    904,  34824,    315,  14604,  35104,\n",
       "             11,  63082,  24717,     11,    477,  24064,   1664,  33851,     13,\n",
       "          57094,    904,   4754,  10742,    477,   6928,  13878,   5552,    311,\n",
       "          10723,   2890,     11,    323,   3493,    264,  10015,  16540,    369,\n",
       "           1855,  22695,    382,  14711,   5688,    512,     40,   2846,   2133,\n",
       "           1555,   1063,   2574,    449,    856,  16024,    323,   7182,     13,\n",
       "            358,  20025,   6212,    323,    358,    656,   4400,    719,   1781,\n",
       "            922,   1268,    358,   2846,  66121,    323,   1268,    358,  13434,\n",
       "            956,    387,   1618,     13,    358,   3077,   2646,   6818,    477,\n",
       "          93439,  18639,     13,    358,   3077,   2744,   4934,    311,   5155,\n",
       "            856,   4819,     11,    719,    358,   2646,    636,   2212,    311,\n",
       "            433,     13,   2650,    649,    358,   2349,    856,   8430,    315,\n",
       "           1694,  66121,    311,   5127,   1980,  14711,   6075,    512]],\n",
       "       device='cuda:0'), 'attention_mask': tensor([[1, 1, 1, 1, 1, 1, 1, 1, 1, 1, 1, 1, 1, 1, 1, 1, 1, 1, 1, 1, 1, 1, 1, 1,\n",
       "         1, 1, 1, 1, 1, 1, 1, 1, 1, 1, 1, 1, 1, 1, 1, 1, 1, 1, 1, 1, 1, 1, 1, 1,\n",
       "         1, 1, 1, 1, 1, 1, 1, 1, 1, 1, 1, 1, 1, 1, 1, 1, 1, 1, 1, 1, 1, 1, 1, 1,\n",
       "         1, 1, 1, 1, 1, 1, 1, 1, 1, 1, 1, 1, 1, 1, 1, 1, 1, 1, 1, 1, 1, 1, 1, 1,\n",
       "         1, 1, 1, 1, 1, 1, 1, 1, 1, 1, 1, 1, 1, 1, 1, 1, 1, 1, 1, 1, 1, 1, 1, 1,\n",
       "         1, 1, 1, 1, 1]], device='cuda:0')}"
      ]
     },
     "execution_count": 8,
     "metadata": {},
     "output_type": "execute_result"
    }
   ],
   "source": [
    "inputs"
   ]
  },
  {
   "cell_type": "code",
   "execution_count": 10,
   "id": "f5f3f6e2-a8f0-4cd7-96b2-1a2483ce3535",
   "metadata": {},
   "outputs": [
    {
     "name": "stdout",
     "output_type": "stream",
     "text": [
      "['<|begin_of_text|>Analyze the provided text from a mental health perspective. Identify any indicators of emotional distress, coping mechanisms, or psychological well-being. Highlight any potential concerns or positive aspects related to mental health, and provide a brief explanation for each observation.\\n\\n### Input:\\nI\\'m going through some things with my feelings and myself. I barely sleep and I do nothing but think about how I\\'m worthless and how I shouldn\\'t be here. I\\'ve never tried or contemplated suicide. I\\'ve always wanted to fix my issues, but I never get around to it. How can I change my feeling of being worthless to everyone?\\n\\n### Response:\\nHello, and thank you for your question. First, I am so glad that you have reached out. If\\xa0 \"I\\'m going through some things with my feelings and myself. I barely sleep and I do nothing but think about how I\\'m worthless and how I shouldn\\'t be here. I\\'ve never tried or contemplated suicide. I\\'ve always wanted to fix my issues, but I never get around to it. How can I change my feeling of being worthless to everyone?\" There are so many questions being asked here. Some are questions about yourself, some are questions about your parents, and some are questions about your religion. I won\\'t be able to answer them all. However, I think maybe I can make a beginning. I think maybe this is something that you need to get a check into. I need to know what my options are. I need to know if I\\'m good or if I\\'m bad. I need to put my trust in God. I need to stop the negative thoughts. I need to talk to someone. I need help.\\xa0First, I think you need to talk to someone. You can talk to your primary care physician, a counselor at school, or a friend. But most of all, you need to talk to someone.\\xa0Secondly, I think you may need to get a therapist or a psychiatrist. There is a lot of hope and help for you. But you need someone to help you deal with the issues that you are having right now.\\xa0Thirdly, I think you may need to get a therapist or a psychiatrist. There is a lot of hope and help for you. But you need someone to help you deal with the issues that you are having right now.\\xa0Fourthly, I think you may need to get a therapist or a psychiatrist. There is a lot of hope and help for your in life. But you need to take that step. Get that appointment made. Get that prescription. Take that pill. Stop the addiction. Stop the self-medication. You need help like crazy. Get up and do some things. Get that job. Get that work. Go to school. Do the things that help us all live better lives. Get that help.\\xa0I wish you well, and hope the best.\\xa0<|end_of_text|>']\n"
     ]
    }
   ],
   "source": [
    "outputs = model.generate(**inputs, max_new_tokens = 5020, use_cache = True)\n",
    "answer=tokenizer.batch_decode(outputs)\n",
    "print(answer)"
   ]
  },
  {
   "cell_type": "code",
   "execution_count": 11,
   "id": "cd7d5fd9-3707-492d-bd62-a84f7ffb6e4c",
   "metadata": {},
   "outputs": [
    {
     "name": "stdout",
     "output_type": "stream",
     "text": [
      "Answer of the question is: \n",
      "Hello, and thank you for your question. First, I am so glad that you have reached out. If  \"I'm going through some things with my feelings and myself. I barely sleep and I do nothing but think about how I'm worthless and how I shouldn't be here. I've never tried or contemplated suicide. I've always wanted to fix my issues, but I never get around to it. How can I change my feeling of being worthless to everyone?\" There are so many questions being asked here. Some are questions about yourself, some are questions about your parents, and some are questions about your religion. I won't be able to answer them all. However, I think maybe I can make a beginning. I think maybe this is something that you need to get a check into. I need to know what my options are. I need to know if I'm good or if I'm bad. I need to put my trust in God. I need to stop the negative thoughts. I need to talk to someone. I need help. First, I think you need to talk to someone. You can talk to your primary care physician, a counselor at school, or a friend. But most of all, you need to talk to someone. Secondly, I think you may need to get a therapist or a psychiatrist. There is a lot of hope and help for you. But you need someone to help you deal with the issues that you are having right now. Thirdly, I think you may need to get a therapist or a psychiatrist. There is a lot of hope and help for you. But you need someone to help you deal with the issues that you are having right now. Fourthly, I think you may need to get a therapist or a psychiatrist. There is a lot of hope and help for your in life. But you need to take that step. Get that appointment made. Get that prescription. Take that pill. Stop the addiction. Stop the self-medication. You need help like crazy. Get up and do some things. Get that job. Get that work. Go to school. Do the things that help us all live better lives. Get that help. I wish you well, and hope the best. <|end_of_text|>\n"
     ]
    }
   ],
   "source": [
    "answer = answer[0].split(\"### Response:\")[-1]\n",
    "print(\"Answer of the question is:\", answer)"
   ]
  },
  {
   "cell_type": "code",
   "execution_count": 15,
   "id": "6d688262-8577-41c9-9112-f82358321521",
   "metadata": {},
   "outputs": [
    {
     "data": {
      "application/vnd.jupyter.widget-view+json": {
       "model_id": "8e83727677e94f33a8b3426f1e441232",
       "version_major": 2,
       "version_minor": 0
      },
      "text/plain": [
       "README.md:   0%|          | 0.00/579 [00:00<?, ?B/s]"
      ]
     },
     "metadata": {},
     "output_type": "display_data"
    },
    {
     "data": {
      "application/vnd.jupyter.widget-view+json": {
       "model_id": "c60f3bbb7bdb4c1a960084c146a6d0a2",
       "version_major": 2,
       "version_minor": 0
      },
      "text/plain": [
       "adapter_model.safetensors:   0%|          | 0.00/45.1M [00:00<?, ?B/s]"
      ]
     },
     "metadata": {},
     "output_type": "display_data"
    },
    {
     "name": "stdout",
     "output_type": "stream",
     "text": [
      "Saved model to https://huggingface.co/1B_finetuned_llama3.2\n"
     ]
    },
    {
     "data": {
      "application/vnd.jupyter.widget-view+json": {
       "model_id": "a9e37992c236481881a3205fa2ae27a6",
       "version_major": 2,
       "version_minor": 0
      },
      "text/plain": [
       "tokenizer.json:   0%|          | 0.00/17.2M [00:00<?, ?B/s]"
      ]
     },
     "metadata": {},
     "output_type": "display_data"
    }
   ],
   "source": [
    "# 这一步是为了后续评估我们微调后的模型\n",
    "os.environ[\"HF_TOKEN\"] = \"换成你自己的hugging face token key\"\n",
    "model.push_to_hub(\"1B_finetuned_llama3.2\", use_auth_token=os.getenv(\"HF_TOKEN\"))\n",
    "tokenizer.push_to_hub(\"1B_finetuned_llama3.2\", use_auth_token=os.getenv(\"HF_TOKEN\"))"
   ]
  },
  {
   "cell_type": "code",
   "execution_count": null,
   "id": "806beb70-3bc9-4075-ae65-0b220db8bfb4",
   "metadata": {},
   "outputs": [],
   "source": []
  }
 ],
 "metadata": {
  "kernelspec": {
   "display_name": "Python 3 (ipykernel)",
   "language": "python",
   "name": "python3"
  },
  "language_info": {
   "codemirror_mode": {
    "name": "ipython",
    "version": 3
   },
   "file_extension": ".py",
   "mimetype": "text/x-python",
   "name": "python",
   "nbconvert_exporter": "python",
   "pygments_lexer": "ipython3",
   "version": "3.10.12"
  }
 },
 "nbformat": 4,
 "nbformat_minor": 5
}
